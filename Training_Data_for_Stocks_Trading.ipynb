{
  "cells": [
    {
      "cell_type": "markdown",
      "metadata": {
        "id": "view-in-github",
        "colab_type": "text"
      },
      "source": [
        "<a href=\"https://colab.research.google.com/github/ar-mccabe/annotated_deep_learning_paper_implementations/blob/master/Training_Data_for_Stocks_Trading.ipynb\" target=\"_parent\"><img src=\"https://colab.research.google.com/assets/colab-badge.svg\" alt=\"Open In Colab\"/></a>"
      ]
    },
    {
      "cell_type": "code",
      "execution_count": null,
      "id": "49000b67",
      "metadata": {
        "id": "49000b67"
      },
      "outputs": [],
      "source": [
        "%pip install prophet\n",
        "%pip install torch\n",
        "%pip install ipywidgets\n",
        "%pip install yfinance"
      ]
    },
    {
      "cell_type": "code",
      "execution_count": null,
      "id": "e5efc31a",
      "metadata": {
        "id": "e5efc31a"
      },
      "outputs": [],
      "source": [
        "import numpy as np\n",
        "import pandas as pd\n",
        "import yfinance as yf\n",
        "import tensorflow as tf\n",
        "from prophet import Prophet\n",
        "import torch\n",
        "import os"
      ]
    },
    {
      "cell_type": "code",
      "source": [
        "from google.colab import drive\n",
        "drive.mount('/content/drive')"
      ],
      "metadata": {
        "id": "n8811jQyJHiz"
      },
      "id": "n8811jQyJHiz",
      "execution_count": null,
      "outputs": []
    },
    {
      "cell_type": "code",
      "source": [
        "save_dir = '/content/drive/MyDrive/Trading/TFT'"
      ],
      "metadata": {
        "id": "0LRd1F2RI9Ni"
      },
      "id": "0LRd1F2RI9Ni",
      "execution_count": null,
      "outputs": []
    },
    {
      "cell_type": "code",
      "execution_count": null,
      "id": "531d0e38",
      "metadata": {
        "id": "531d0e38"
      },
      "outputs": [],
      "source": [
        "raw_data = yf.download(  # or pdr.get_data_yahoo(...\n",
        "        # tickers list or string as well\n",
        "        tickers = \"SPY AAPL MSFT RY TD BMO SHOP GOOGL AMZN NFLX ^IRX ^FVX ^TNX ^TYX CAD=X\",\n",
        "\n",
        "        # use \"period\" instead of start/end\n",
        "        # valid periods: 1d,5d,1mo,3mo,6mo,1y,2y,5y,10y,ytd,max\n",
        "        # (optional, default is '1mo')\n",
        "        period = \"2y\",\n",
        "\n",
        "        # fetch data by interval (including intraday if period < 60 days)\n",
        "        # valid intervals: 1m,2m,5m,15m,30m,60m,90m,1h,1d,5d,1wk,1mo,3mo\n",
        "        # (optional, default is '1d')\n",
        "        interval = \"1d\",\n",
        "\n",
        "        # Whether to ignore timezone when aligning ticker data from \n",
        "        # different timezones. Default is True. False may be useful for \n",
        "        # minute/hourly data.\n",
        "        ignore_tz = False,\n",
        "\n",
        "        # group by ticker (to access via data['SPY'])\n",
        "        # (optional, default is 'column')\n",
        "        group_by = 'ticker',\n",
        "\n",
        "        # adjust all OHLC automatically\n",
        "        # (optional, default is False)\n",
        "        auto_adjust = True,\n",
        "\n",
        "        # download pre/post regular market hours data\n",
        "        # (optional, default is False)\n",
        "        prepost = True,\n",
        "\n",
        "        # use threads for mass downloading? (True/False/Integer)\n",
        "        # (optional, default is True)\n",
        "        threads = True,\n",
        "\n",
        "        # proxy URL scheme use use when downloading?\n",
        "        # (optional, default is None)\n",
        "        proxy = None\n",
        "    )"
      ]
    },
    {
      "cell_type": "code",
      "source": [
        "data = raw_data.copy()\n",
        "\n",
        "#data.columns = [f'{top}_{bottom}' for top, bottom in data.columns]\n",
        "\n",
        "data = data.stack(level = 0).reset_index()\n",
        "\n",
        "data.columns = ['date_id', 'ticker', 'close', 'high', 'low', 'open', 'volume']\n",
        "\n",
        "data = data.fillna(method = 'ffill')\n",
        "\n",
        "data"
      ],
      "metadata": {
        "id": "g64phgqSHQG4"
      },
      "id": "g64phgqSHQG4",
      "execution_count": null,
      "outputs": []
    },
    {
      "cell_type": "code",
      "execution_count": null,
      "id": "566ca5b4",
      "metadata": {
        "id": "566ca5b4"
      },
      "outputs": [],
      "source": [
        "data.to_csv(os.path.join(save_dir, 'ticker_data.csv'))"
      ]
    }
  ],
  "metadata": {
    "kernelspec": {
      "display_name": "Python 3 (ipykernel)",
      "language": "python",
      "name": "python3"
    },
    "language_info": {
      "codemirror_mode": {
        "name": "ipython",
        "version": 3
      },
      "file_extension": ".py",
      "mimetype": "text/x-python",
      "name": "python",
      "nbconvert_exporter": "python",
      "pygments_lexer": "ipython3",
      "version": "3.9.6"
    },
    "colab": {
      "provenance": [],
      "private_outputs": true,
      "include_colab_link": true
    },
    "gpuClass": "standard"
  },
  "nbformat": 4,
  "nbformat_minor": 5
}